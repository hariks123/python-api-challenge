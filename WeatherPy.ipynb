{
 "cells": [
  {
   "cell_type": "markdown",
   "metadata": {},
   "source": [
    "# WeatherPy\n",
    "----\n",
    "\n",
    "#### Note\n",
    "* Instructions have been included for each segment. You do not have to follow them exactly, but they are included to help you think through the steps."
   ]
  },
  {
   "cell_type": "code",
   "execution_count": 1,
   "metadata": {
    "scrolled": true
   },
   "outputs": [],
   "source": [
    "# Dependencies and Setup\n",
    "import matplotlib.pyplot as plt\n",
    "import pandas as pd\n",
    "import numpy as np\n",
    "import requests\n",
    "import time\n",
    "from scipy.stats import linregress\n",
    "\n",
    "# Import API key\n",
    "from api_keys import weather_api_key\n",
    "\n",
    "# Incorporated citipy to determine city based on latitude and longitude\n",
    "from citipy import citipy\n",
    "\n",
    "# Output File (CSV)\n",
    "output_data_file = \"output_data/cities.csv\"\n",
    "\n",
    "# Range of latitudes and longitudes\n",
    "lat_range = (-90, 90)\n",
    "lng_range = (-180, 180)"
   ]
  },
  {
   "cell_type": "markdown",
   "metadata": {},
   "source": [
    "## Generate Cities List"
   ]
  },
  {
   "cell_type": "code",
   "execution_count": 2,
   "metadata": {},
   "outputs": [
    {
     "data": {
      "text/plain": [
       "625"
      ]
     },
     "execution_count": 2,
     "metadata": {},
     "output_type": "execute_result"
    }
   ],
   "source": [
    "# List for holding lat_lngs and cities\n",
    "lat_lngs = []\n",
    "cities = []\n",
    "\n",
    "# Create a set of random lat and lng combinations\n",
    "lats = np.random.uniform(lat_range[0], lat_range[1], size=1500)\n",
    "lngs = np.random.uniform(lng_range[0], lng_range[1], size=1500)\n",
    "lat_lngs = zip(lats, lngs)\n",
    "\n",
    "# Identify nearest city for each lat, lng combination\n",
    "for lat_lng in lat_lngs:\n",
    "    city = citipy.nearest_city(lat_lng[0], lat_lng[1]).city_name\n",
    "    \n",
    "    # If the city is unique, then add it to a our cities list\n",
    "    if city not in cities:\n",
    "        cities.append(city)\n",
    "\n",
    "# Print the city count to confirm sufficient count\n",
    "len(cities)"
   ]
  },
  {
   "cell_type": "markdown",
   "metadata": {},
   "source": [
    "### Perform API Calls\n",
    "* Perform a weather check on each city using a series of successive API calls.\n",
    "* Include a print log of each city as it'sbeing processed (with the city number and city name).\n"
   ]
  },
  {
   "cell_type": "code",
   "execution_count": 3,
   "metadata": {
    "scrolled": true
   },
   "outputs": [
    {
     "name": "stdout",
     "output_type": "stream",
     "text": [
      "Beginning Data Retrieval\n",
      "-------------------------------\n",
      "Processing Record 1 of set 1 | polunochnoye | Polunochnoye \n",
      "Processing Record 2 of set 1 | berlevag | Berlevåg \n",
      "Processing Record 3 of set 1 | rikitea | Rikitea \n",
      "Processing Record 4 of set 1 | new norfolk | New Norfolk \n",
      "Processing Record 5 of set 1 | hambantota | Hambantota \n",
      "Processing Record 6 of set 1 | bredasdorp | Bredasdorp \n",
      "Processing Record 7 of set 1 | hualmay | Hualmay \n",
      "Processing Record 8 of set 1 | takoradi | Takoradze \n",
      "belushya guba not found.Skipping...\n",
      "Processing Record 9 of set 1 | lanzhou | Lanzhou \n",
      "Processing Record 10 of set 1 | narsaq | Narsaq \n",
      "Processing Record 11 of set 1 | muros | Muros \n",
      "Processing Record 12 of set 1 | tuktoyaktuk | Tuktoyaktuk \n",
      "Processing Record 13 of set 1 | pevek | Pevek \n",
      "Processing Record 14 of set 1 | mataura | Mataura \n",
      "Processing Record 15 of set 1 | chuy | Chui \n",
      "Processing Record 16 of set 1 | airai | Airai \n",
      "Processing Record 17 of set 1 | punta arenas | Punta Arenas \n",
      "Processing Record 18 of set 1 | kapaa | Kapaa \n",
      "Processing Record 19 of set 1 | hobart | Hobart \n",
      "Processing Record 20 of set 1 | havoysund | Havøysund \n",
      "Processing Record 21 of set 1 | khatanga | Khatanga \n",
      "Processing Record 22 of set 1 | port alfred | Port Alfred \n",
      "Processing Record 23 of set 1 | port elizabeth | Port Elizabeth \n",
      "Processing Record 24 of set 1 | puerto ayora | Puerto Ayora \n",
      "barbar not found.Skipping...\n",
      "Processing Record 25 of set 1 | clyde river | Clyde River \n",
      "Processing Record 26 of set 1 | albany | Albany \n",
      "Processing Record 27 of set 1 | bassano | Bassano \n",
      "Processing Record 28 of set 1 | ushuaia | Ushuaia \n",
      "taolanaro not found.Skipping...\n",
      "Processing Record 29 of set 1 | dudinka | Dudinka \n",
      "Processing Record 30 of set 1 | saldanha | Saldanha \n",
      "Processing Record 31 of set 1 | vaini | Vaini \n",
      "Processing Record 32 of set 1 | axim | Esim \n",
      "Processing Record 33 of set 1 | zabol | Zabul Province \n",
      "Processing Record 34 of set 1 | kaitangata | Kaitangata \n",
      "Processing Record 35 of set 1 | tomatlan | Tomatlán \n",
      "Processing Record 36 of set 1 | lawton | Lawton \n",
      "Processing Record 37 of set 1 | lagunas | Lagunas \n",
      "Processing Record 38 of set 1 | ust-uda | Ust'-Uda \n",
      "Processing Record 39 of set 1 | bluff | Bluff \n",
      "Processing Record 40 of set 1 | nikolskoye | Nikolskoye \n",
      "sentyabrskiy not found.Skipping...\n",
      "Processing Record 41 of set 1 | batouri | Batouri \n",
      "Processing Record 42 of set 1 | bethel | Bethel \n",
      "Processing Record 43 of set 1 | portland | Portland \n",
      "Processing Record 44 of set 1 | naryan-mar | Naryan-Mar \n",
      "Processing Record 45 of set 1 | iwanai | Iwanai \n",
      "yirol not found.Skipping...\n",
      "Processing Record 46 of set 1 | hilo | Hilo \n",
      "Processing Record 47 of set 1 | butaritari | Butaritari \n",
      "Processing Record 48 of set 1 | bengkulu | Bengkulu \n",
      "Processing Record 49 of set 1 | ugoofaaru | Ugoofaaru \n",
      "Processing Record 50 of set 1 | margate | Margate \n",
      "Processing Record 1 of set 2 | jati | Jati \n",
      "Processing Record 2 of set 2 | atuona | Atuona \n",
      "Processing Record 3 of set 2 | urengoy | Urengoy \n",
      "umzimvubu not found.Skipping...\n",
      "Processing Record 4 of set 2 | seoul | Seoul \n",
      "Processing Record 5 of set 2 | hermanus | Hermanus \n",
      "Processing Record 6 of set 2 | kugulta | Kugul'ta \n",
      "Processing Record 7 of set 2 | mar del plata | Mar del Plata \n",
      "Processing Record 8 of set 2 | jalu | Jalu \n",
      "Processing Record 9 of set 2 | port hedland | Port Hedland \n",
      "Processing Record 10 of set 2 | lityn | Lityn \n",
      "illoqqortoormiut not found.Skipping...\n",
      "halalo not found.Skipping...\n",
      "Processing Record 11 of set 2 | erzurum | Erzurum Province \n",
      "Processing Record 12 of set 2 | vallenar | Vallenar \n",
      "Processing Record 13 of set 2 | tiksi | Tiksi \n",
      "Processing Record 14 of set 2 | lebu | Lebu \n",
      "Processing Record 15 of set 2 | okhotsk | Okhotsk \n",
      "Processing Record 16 of set 2 | kodiak | Saint Paul Harbor \n",
      "Processing Record 17 of set 2 | arlit | Arlit \n",
      "Processing Record 18 of set 2 | ambovombe | Ambovombe \n",
      "mys shmidta not found.Skipping...\n",
      "Processing Record 19 of set 2 | grand gaube | Grand Gaube \n",
      "Processing Record 20 of set 2 | koslan | Koslan \n",
      "Processing Record 21 of set 2 | acandi | Acandí \n",
      "Processing Record 22 of set 2 | luwuk | Luwuk \n",
      "Processing Record 23 of set 2 | pisco | Pisco \n",
      "Processing Record 24 of set 2 | thompson | Thompson \n",
      "Processing Record 25 of set 2 | busselton | Busselton \n",
      "Processing Record 26 of set 2 | huarmey | Huarmey \n",
      "Processing Record 27 of set 2 | daru | Daru \n",
      "Processing Record 28 of set 2 | vostok | Vostok \n",
      "Processing Record 29 of set 2 | saint george | Saint George \n",
      "Processing Record 30 of set 2 | meulaboh | Meulaboh \n",
      "Processing Record 31 of set 2 | taksimo | Taksimo \n",
      "Processing Record 32 of set 2 | port lincoln | Port Lincoln \n",
      "Processing Record 33 of set 2 | nizwa | Nizwá \n",
      "Processing Record 34 of set 2 | magdagachi | Magdagachi \n",
      "barentsburg not found.Skipping...\n",
      "Processing Record 35 of set 2 | nome | Nome \n",
      "Processing Record 36 of set 2 | hithadhoo | Hithadhoo \n",
      "Processing Record 37 of set 2 | talnakh | Talnakh \n",
      "Processing Record 38 of set 2 | pratapgarh | Pratāpgarh \n",
      "Processing Record 39 of set 2 | vangaindrano | Vangaindrano \n",
      "Processing Record 40 of set 2 | cabo san lucas | Cabo San Lucas \n",
      "Processing Record 41 of set 2 | victoria | Hong Kong \n",
      "Processing Record 42 of set 2 | ribeira grande | Ribeira Grande \n",
      "Processing Record 43 of set 2 | peleduy | Peleduy \n",
      "Processing Record 44 of set 2 | chokurdakh | Chokurdakh \n",
      "tungkang not found.Skipping...\n",
      "Processing Record 45 of set 2 | kenai | Kenai \n",
      "Processing Record 46 of set 2 | jand | Jand \n",
      "jarjis not found.Skipping...\n",
      "toliary not found.Skipping...\n",
      "Processing Record 47 of set 2 | oron | Oron \n",
      "Processing Record 48 of set 2 | carnarvon | Carnarvon \n",
      "Processing Record 49 of set 2 | baglung | Bāglung \n",
      "Processing Record 50 of set 2 | sinegorye | Sinegor'ye \n",
      "Processing Record 1 of set 3 | qaanaaq | Qaanaaq \n",
      "Processing Record 2 of set 3 | cayenne | Cayenne \n",
      "Processing Record 3 of set 3 | imeni poliny osipenko | Imeni Poliny Osipenko \n",
      "Processing Record 4 of set 3 | kruisfontein | Kruisfontein \n",
      "Processing Record 5 of set 3 | ostersund | Östersund \n",
      "Processing Record 6 of set 3 | yellowknife | Yellowknife \n",
      "Processing Record 7 of set 3 | balkhash | Balkhash \n",
      "Processing Record 8 of set 3 | aldan | Aldan \n",
      "Processing Record 9 of set 3 | baculin | Baculin \n",
      "Processing Record 10 of set 3 | vao | Vao \n",
      "hunza not found.Skipping...\n",
      "Processing Record 11 of set 3 | cape town | Cape Town \n",
      "Processing Record 12 of set 3 | san ignacio | San Ignacio \n",
      "Processing Record 13 of set 3 | timbiras | Timbiras \n",
      "Processing Record 14 of set 3 | haines junction | Haines Junction \n",
      "Processing Record 15 of set 3 | carballo | Carballo \n",
      "Processing Record 16 of set 3 | shelburne | Shelburne \n",
      "Processing Record 17 of set 3 | asfi | Safi \n",
      "Processing Record 18 of set 3 | azpeitia | Azpeitia \n",
      "Processing Record 19 of set 3 | togur | Togur \n",
      "Processing Record 20 of set 3 | jamestown | Jamestown \n",
      "Processing Record 21 of set 3 | lagos | Lagos \n",
      "Processing Record 22 of set 3 | los llanos de aridane | Los Llanos de Aridane \n",
      "Processing Record 23 of set 3 | wad madani | Wad Medani \n",
      "Processing Record 24 of set 3 | beringovskiy | Beringovskiy \n",
      "viligili not found.Skipping...\n",
      "Processing Record 25 of set 3 | lucea | Lucea \n",
      "Processing Record 26 of set 3 | sept-iles | Sept-Îles \n",
      "Processing Record 27 of set 3 | esperance | Esperance \n",
      "Processing Record 28 of set 3 | longyearbyen | Longyearbyen \n",
      "Processing Record 29 of set 3 | leningradskiy | Leningradskiy \n",
      "gorkovskoye not found.Skipping...\n",
      "Processing Record 30 of set 3 | barrow | Barrow \n",
      "Processing Record 31 of set 3 | am timan | Am Timan \n",
      "Processing Record 32 of set 3 | pauini | Pauini \n",
      "Processing Record 33 of set 3 | xuddur | Oddur \n",
      "Processing Record 34 of set 3 | la brea | La Brea \n",
      "Processing Record 35 of set 3 | henderson | Henderson \n",
      "Processing Record 36 of set 3 | iskateley | Iskateley \n",
      "Processing Record 37 of set 3 | lishui | Lishui \n",
      "Processing Record 38 of set 3 | salta | Salta \n",
      "karaul not found.Skipping...\n",
      "Processing Record 39 of set 3 | severo-yeniseyskiy | Severo-Yeniseyskiy \n",
      "Processing Record 40 of set 3 | tuatapere | Tuatapere \n",
      "tapaua not found.Skipping...\n",
      "Processing Record 41 of set 3 | edd | Edd \n",
      "Processing Record 42 of set 3 | carutapera | Carutapera \n",
      "Processing Record 43 of set 3 | ancud | Ancud \n"
     ]
    },
    {
     "name": "stdout",
     "output_type": "stream",
     "text": [
      "Processing Record 44 of set 3 | yulara | Yulara \n",
      "Processing Record 45 of set 3 | porkhov | Porkhov \n",
      "Processing Record 46 of set 3 | saskylakh | Saskylakh \n",
      "Processing Record 47 of set 3 | siempre viva | Siempre Viva \n",
      "Processing Record 48 of set 3 | souillac | Souillac \n",
      "Processing Record 49 of set 3 | kisangani | Kisangani \n",
      "Processing Record 50 of set 3 | ilulissat | Ilulissat \n",
      "falaleu not found.Skipping...\n",
      "Processing Record 1 of set 4 | chapais | Chapais \n",
      "Processing Record 2 of set 4 | murchison | Murchison \n",
      "Processing Record 3 of set 4 | avarua | Avarua \n",
      "Processing Record 4 of set 4 | malanje | Malanje \n",
      "Processing Record 5 of set 4 | upernavik | Upernavik \n",
      "Processing Record 6 of set 4 | alofi | Alofi \n",
      "Processing Record 7 of set 4 | bambous virieux | Bambous Virieux \n",
      "Processing Record 8 of set 4 | severnoye | Severnoye \n",
      "amderma not found.Skipping...\n",
      "Processing Record 9 of set 4 | lavrentiya | Lavrentiya \n",
      "Processing Record 10 of set 4 | port hardy | Port Hardy \n",
      "karkaralinsk not found.Skipping...\n",
      "Processing Record 11 of set 4 | mbanza-ngungu | Mbanza-Ngungu \n",
      "Processing Record 12 of set 4 | constitucion | Constitución \n",
      "Processing Record 13 of set 4 | ihosy | Ihosy \n",
      "samusu not found.Skipping...\n",
      "Processing Record 14 of set 4 | traralgon | Traralgon \n",
      "Processing Record 15 of set 4 | cherskiy | Cherskiy \n",
      "Processing Record 16 of set 4 | avera | Avera \n",
      "Processing Record 17 of set 4 | piacabucu | Piaçabuçu \n",
      "Processing Record 18 of set 4 | tirumullaivasal | Tirumullaivāsal \n",
      "Processing Record 19 of set 4 | daska | Daska Kalan \n",
      "Processing Record 20 of set 4 | rio grande | Rio Grande \n",
      "Processing Record 21 of set 4 | lagoa | Lagoa \n",
      "Processing Record 22 of set 4 | taloqan | Taloqan \n",
      "Processing Record 23 of set 4 | amantea | Amantea \n",
      "Processing Record 24 of set 4 | ponta do sol | Ponta do Sol \n",
      "Processing Record 25 of set 4 | komsomolskiy | Yangi Marg`ilon \n",
      "Processing Record 26 of set 4 | wenchi | Wankyi \n",
      "bur gabo not found.Skipping...\n",
      "tsihombe not found.Skipping...\n",
      "Processing Record 27 of set 4 | muyezerskiy | Muyezerskiy \n",
      "Processing Record 28 of set 4 | severo-kurilsk | Severo-Kuril'sk \n",
      "Processing Record 29 of set 4 | sinnamary | Sinnamary \n",
      "Processing Record 30 of set 4 | bom jesus | Bom Jesus \n",
      "satitoa not found.Skipping...\n",
      "tasbuget not found.Skipping...\n",
      "Processing Record 31 of set 4 | sola | Sola \n",
      "Processing Record 32 of set 4 | pustoshka | Pustoshka \n",
      "Processing Record 33 of set 4 | tasiilaq | Tasiilaq \n",
      "Processing Record 34 of set 4 | east london | East London \n",
      "Processing Record 35 of set 4 | awjilah | Awjilah \n",
      "Processing Record 36 of set 4 | moranbah | Moranbah \n",
      "Processing Record 37 of set 4 | mastic beach | Mastic Beach \n",
      "Processing Record 38 of set 4 | isiro | Isiro \n",
      "Processing Record 39 of set 4 | yerbogachen | Yerbogachën \n",
      "Processing Record 40 of set 4 | esil | Esil \n",
      "Processing Record 41 of set 4 | abay | Abay \n",
      "Processing Record 42 of set 4 | soe | Soe \n",
      "Processing Record 43 of set 4 | entre rios | Entre Rios \n",
      "Processing Record 44 of set 4 | loding | Løding \n",
      "Processing Record 45 of set 4 | dikson | Dikson \n",
      "Processing Record 46 of set 4 | eureka | Eureka \n",
      "Processing Record 47 of set 4 | codrington | Codrington \n",
      "Processing Record 48 of set 4 | businga | Businga \n",
      "Processing Record 49 of set 4 | acapulco | Acapulco de Juárez \n",
      "Processing Record 50 of set 4 | castro | Castro \n",
      "Processing Record 1 of set 5 | izumo | Izumo \n",
      "Processing Record 2 of set 5 | ribas do rio pardo | Ribas do Rio Pardo \n",
      "paucartambo not found.Skipping...\n",
      "Processing Record 3 of set 5 | cidreira | Cidreira \n",
      "Processing Record 4 of set 5 | gat | Kiryat Gat \n",
      "Processing Record 5 of set 5 | hosakote | Hoskote \n",
      "Processing Record 6 of set 5 | aykhal | Aykhal \n",
      "Processing Record 7 of set 5 | ahipara | Ahipara \n",
      "Processing Record 8 of set 5 | santa cruz | Santa Cruz de la Sierra \n",
      "Processing Record 9 of set 5 | padang | Padang \n",
      "Processing Record 10 of set 5 | kurilsk | Kuril'sk \n",
      "Processing Record 11 of set 5 | labuhan | Labuhan \n",
      "Processing Record 12 of set 5 | casablanca | Casablanca \n",
      "Processing Record 13 of set 5 | mongoumba | Mongoumba \n",
      "Processing Record 14 of set 5 | foz | Foz \n",
      "Processing Record 15 of set 5 | yicheng | Yicheng \n",
      "Processing Record 16 of set 5 | kununurra | Kununurra \n",
      "Processing Record 17 of set 5 | lujan | Luján \n",
      "Processing Record 18 of set 5 | faanui | Faanui \n",
      "Processing Record 19 of set 5 | sitka | Sitka \n",
      "Processing Record 20 of set 5 | fortuna | Fortuna \n",
      "Processing Record 21 of set 5 | bonavista | Bonavista \n",
      "Processing Record 22 of set 5 | shingu | Shingū \n",
      "vaitupu not found.Skipping...\n",
      "Processing Record 23 of set 5 | norman wells | Norman Wells \n",
      "Processing Record 24 of set 5 | lumeje | Lumeje \n",
      "Processing Record 25 of set 5 | aswan | Aswān \n",
      "Processing Record 26 of set 5 | lawang | Lawang \n",
      "Processing Record 27 of set 5 | hami | Kumul \n",
      "Processing Record 28 of set 5 | kieta | Kieta \n",
      "Processing Record 29 of set 5 | ixtapa | Ixtapa \n",
      "Processing Record 30 of set 5 | bilma | Bilma \n",
      "saleaula not found.Skipping...\n",
      "Processing Record 31 of set 5 | comodoro rivadavia | Comodoro Rivadavia \n",
      "Processing Record 32 of set 5 | windsor | Windsor \n",
      "saryshagan not found.Skipping...\n",
      "Processing Record 33 of set 5 | abalak | Abalak \n",
      "Processing Record 34 of set 5 | grindavik | Grindavik \n",
      "Processing Record 35 of set 5 | borazjan | Borazjan \n",
      "Processing Record 36 of set 5 | xining | Xining \n",
      "Processing Record 37 of set 5 | isla vista | Isla Vista \n",
      "Processing Record 38 of set 5 | san javier | San Javier \n",
      "Processing Record 39 of set 5 | aasiaat | Aasiaat \n",
      "Processing Record 40 of set 5 | jiayuguan | Jiayuguan City \n",
      "Processing Record 41 of set 5 | opuwo | Opuwo \n",
      "Processing Record 42 of set 5 | ribeira brava | Ribeira Brava \n",
      "Processing Record 43 of set 5 | nueve de julio | Nueve de Julio \n",
      "Processing Record 44 of set 5 | rocha | Rocha \n",
      "Processing Record 45 of set 5 | lac du bonnet | Lac du Bonnet \n",
      "Processing Record 46 of set 5 | arraial do cabo | Arraial do Cabo \n",
      "samalaeulu not found.Skipping...\n",
      "Processing Record 47 of set 5 | merritt island | Merritt Island \n",
      "Processing Record 48 of set 5 | guerrero negro | Guerrero Negro \n",
      "nguiu not found.Skipping...\n",
      "Processing Record 49 of set 5 | biak | Biak \n",
      "Processing Record 50 of set 5 | puerto baquerizo moreno | Puerto Baquerizo Moreno \n",
      "Processing Record 1 of set 6 | bealanana | Bealanana \n",
      "Processing Record 2 of set 6 | bayan | Bayan \n",
      "Processing Record 3 of set 6 | bara | Bara \n",
      "Processing Record 4 of set 6 | bichura | Bichura \n",
      "Processing Record 5 of set 6 | solnechnyy | Solnechnyy \n",
      "Processing Record 6 of set 6 | marystown | Marystown \n",
      "Processing Record 7 of set 6 | gogrial | Gogrial \n",
      "Processing Record 8 of set 6 | oistins | Oistins \n",
      "Processing Record 9 of set 6 | fort nelson | Fort Nelson \n",
      "Processing Record 10 of set 6 | sovetskaya gavan | Sovetskaya Gavan' \n",
      "Processing Record 11 of set 6 | tromso | Tromsø \n",
      "Processing Record 12 of set 6 | pouembout | Pouembout \n",
      "Processing Record 13 of set 6 | linjiang | Linjiang \n",
      "Processing Record 14 of set 6 | bambanglipuro | Bambanglipuro \n",
      "Processing Record 15 of set 6 | san jeronimo | San Jerónimo \n",
      "Processing Record 16 of set 6 | sao filipe | São Filipe \n",
      "Processing Record 17 of set 6 | jieshi | Jieshi \n",
      "Processing Record 18 of set 6 | cap malheureux | Cap Malheureux \n",
      "Processing Record 19 of set 6 | lluta | Lluta \n",
      "Processing Record 20 of set 6 | presidencia roque saenz pena | Presidencia Roque Sáenz Peña \n",
      "Processing Record 21 of set 6 | liancheng | Liancheng \n",
      "Processing Record 22 of set 6 | struga | Struga \n",
      "Processing Record 23 of set 6 | palmer | Palmer \n",
      "grand river south east not found.Skipping...\n",
      "Processing Record 24 of set 6 | khandyga | Khandyga \n",
      "Processing Record 25 of set 6 | romita | Romita \n",
      "Processing Record 26 of set 6 | nizhniy tsasuchey | Nizhniy Tsasuchey \n",
      "Processing Record 27 of set 6 | sao joao da barra | São João da Barra \n",
      "Processing Record 28 of set 6 | nanortalik | Nanortalik \n",
      "Processing Record 29 of set 6 | dhidhdhoo | Dhidhdhoo \n",
      "Processing Record 30 of set 6 | mazagao | Mazagão \n",
      "Processing Record 31 of set 6 | provideniya | Provideniya \n",
      "Processing Record 32 of set 6 | mount gambier | Mount Gambier \n",
      "Processing Record 33 of set 6 | sechura | Sechura \n",
      "Processing Record 34 of set 6 | naze | Naze \n",
      "Processing Record 35 of set 6 | georgetown | George Town \n"
     ]
    },
    {
     "name": "stdout",
     "output_type": "stream",
     "text": [
      "Processing Record 36 of set 6 | vila velha | Vila Velha \n",
      "Processing Record 37 of set 6 | chany | Chany \n",
      "tamazulapam not found.Skipping...\n",
      "Processing Record 38 of set 6 | la ferte-bernard | La Ferté-Bernard \n",
      "Processing Record 39 of set 6 | caruray | Caruray \n",
      "Processing Record 40 of set 6 | hofn | Hofn \n",
      "gollere not found.Skipping...\n",
      "Processing Record 41 of set 6 | qena | Qena \n",
      "Processing Record 42 of set 6 | urumqi | Ürümqi \n",
      "Processing Record 43 of set 6 | zhezkazgan | Zhezkazgan \n",
      "Processing Record 44 of set 6 | rena | Rena \n",
      "Processing Record 45 of set 6 | warri | Warri \n",
      "Processing Record 46 of set 6 | ruteng | Ruteng \n",
      "Processing Record 47 of set 6 | mahebourg | Mahébourg \n",
      "Processing Record 48 of set 6 | boa vista | Boa Vista \n",
      "Processing Record 49 of set 6 | cocal | Cocal \n",
      "Processing Record 50 of set 6 | cilegon | Cilegon \n",
      "Processing Record 1 of set 7 | gold coast | Gold Coast \n",
      "Processing Record 2 of set 7 | vestmannaeyjar | Vestmannaeyjar \n",
      "Processing Record 3 of set 7 | gore | Gore \n",
      "Processing Record 4 of set 7 | maxixe | Maxixe \n",
      "Processing Record 5 of set 7 | kemi | Keminmaa \n",
      "Processing Record 6 of set 7 | veere | Veere \n",
      "Processing Record 7 of set 7 | sawakin | Sawākin \n",
      "Processing Record 8 of set 7 | chitral | Chitral \n",
      "Processing Record 9 of set 7 | vila franca do campo | Vila Franca do Campo \n",
      "Processing Record 10 of set 7 | sherlovaya gora | Sherlovaya Gora \n",
      "Processing Record 11 of set 7 | bell ville | Bell Ville \n",
      "Processing Record 12 of set 7 | nesna | Nesna \n",
      "Processing Record 13 of set 7 | kampong thum | Kampong Thom \n",
      "Processing Record 14 of set 7 | luderitz | Lüderitz \n",
      "Processing Record 15 of set 7 | svelgen | Svelgen \n",
      "Processing Record 16 of set 7 | karwar | Karwar \n",
      "Processing Record 17 of set 7 | kiunga | Kiunga \n",
      "Processing Record 18 of set 7 | chino valley | Chino Valley \n",
      "Processing Record 19 of set 7 | zhenlai | Zhenlai \n",
      "Processing Record 20 of set 7 | cacoal | Cacoal \n",
      "Processing Record 21 of set 7 | vanimo | Vanimo \n",
      "Processing Record 22 of set 7 | matamoros | Matamoros \n",
      "Processing Record 23 of set 7 | saint-augustin | Saint-Augustin \n",
      "Processing Record 24 of set 7 | muzhi | Muzhi \n",
      "Processing Record 25 of set 7 | dobson | Dobson \n",
      "Processing Record 26 of set 7 | alice springs | Alice Springs \n",
      "Processing Record 27 of set 7 | kribi | Kribi \n",
      "Processing Record 28 of set 7 | aklavik | Aklavik \n",
      "Processing Record 29 of set 7 | batticaloa | Batticaloa \n",
      "Processing Record 30 of set 7 | vardo | Vardø \n",
      "Processing Record 31 of set 7 | san patricio | San Patricio \n",
      "Processing Record 32 of set 7 | petrivka | Kurisove \n",
      "Processing Record 33 of set 7 | porangatu | Porangatu \n",
      "Processing Record 34 of set 7 | lev tolstoy | Lev Tolstoy \n",
      "Processing Record 35 of set 7 | gazimurskiy zavod | Gazimurskiy Zavod \n",
      "Processing Record 36 of set 7 | yuryevets | Yur’yevets \n",
      "Processing Record 37 of set 7 | coquimbo | Coquimbo \n",
      "Processing Record 38 of set 7 | torbay | Torbay \n",
      "Processing Record 39 of set 7 | ojinaga | Ojinaga \n",
      "Processing Record 40 of set 7 | christchurch | Christchurch \n",
      "Processing Record 41 of set 7 | darhan | Darhan \n",
      "Processing Record 42 of set 7 | zyryanka | Zyryanka \n",
      "Processing Record 43 of set 7 | linxia | Linxia Chengguanzhen \n",
      "Processing Record 44 of set 7 | dawei | Dawei \n",
      "rungata not found.Skipping...\n",
      "Processing Record 45 of set 7 | baghmara | Baghmara \n",
      "Processing Record 46 of set 7 | mandera | Mandera \n",
      "Processing Record 47 of set 7 | sotnikovo | Sotnikovo \n",
      "Processing Record 48 of set 7 | walvis bay | Walvis Bay \n",
      "Processing Record 49 of set 7 | geraldton | Geraldton \n",
      "Processing Record 50 of set 7 | ahja | Ahja \n",
      "Processing Record 1 of set 8 | itarema | Itarema \n",
      "Processing Record 2 of set 8 | ocala | Ocala \n",
      "Processing Record 3 of set 8 | kapit | Kapit \n",
      "Processing Record 4 of set 8 | mormugao | Mormugao \n",
      "Processing Record 5 of set 8 | matagami | Matagami \n",
      "Processing Record 6 of set 8 | nchelenge | Nchelenge \n",
      "Processing Record 7 of set 8 | george | George \n",
      "Processing Record 8 of set 8 | twante | Twante \n",
      "Processing Record 9 of set 8 | narasannapeta | Narasannapeta \n",
      "Processing Record 10 of set 8 | xai-xai | Xai-Xai \n",
      "Processing Record 11 of set 8 | pastavy | Pastavy \n",
      "Processing Record 12 of set 8 | areia branca | Areia Branca \n",
      "Processing Record 13 of set 8 | nacala | Nacala \n",
      "Processing Record 14 of set 8 | saint-philippe | Saint-Philippe \n",
      "Processing Record 15 of set 8 | nabire | Nabire \n",
      "Processing Record 16 of set 8 | dax | Arrondissement de Dax \n",
      "urdzhar not found.Skipping...\n",
      "Processing Record 17 of set 8 | casa nova | Casa Nova \n",
      "Processing Record 18 of set 8 | kondagaon | Kondagaon \n",
      "Processing Record 19 of set 8 | great yarmouth | Great Yarmouth \n",
      "Processing Record 20 of set 8 | vigrestad | Vigrestad \n",
      "Processing Record 21 of set 8 | bhikhi | Bhīkhi \n",
      "Processing Record 22 of set 8 | saint albans | St Albans \n",
      "Processing Record 23 of set 8 | beni suef | Beni Suef \n",
      "Processing Record 24 of set 8 | dharur | Dhārūr \n",
      "Processing Record 25 of set 8 | neiafu | Neiafu \n",
      "Processing Record 26 of set 8 | sioux lookout | Sioux Lookout \n",
      "Processing Record 27 of set 8 | grants pass | Grants Pass \n",
      "Processing Record 28 of set 8 | bereda | Bereda \n",
      "Processing Record 29 of set 8 | urubicha | Urubichá \n",
      "Processing Record 30 of set 8 | akom | Akom \n",
      "Processing Record 31 of set 8 | bagepalli | Bāgepalli \n",
      "Processing Record 32 of set 8 | hasaki | Hasaki \n",
      "Processing Record 33 of set 8 | havelock | Havelock \n",
      "Processing Record 34 of set 8 | yumen | Yumen \n",
      "Processing Record 35 of set 8 | klaksvik | Klaksvík \n",
      "Processing Record 36 of set 8 | ruidoso | Ruidoso \n",
      "Processing Record 37 of set 8 | san quintin | San Quintín \n",
      "tempoal not found.Skipping...\n",
      "Processing Record 38 of set 8 | necochea | Necochea \n",
      "Processing Record 39 of set 8 | khuzdar | Khuzdar \n",
      "Processing Record 40 of set 8 | turukhansk | Turukhansk \n",
      "Processing Record 41 of set 8 | peace river | Peace River \n",
      "Processing Record 42 of set 8 | neuquen | Neuquén \n",
      "Processing Record 43 of set 8 | oussouye | Oussouye \n",
      "Processing Record 44 of set 8 | mackay | Mackay \n",
      "Processing Record 45 of set 8 | domoni | Domoni \n",
      "Processing Record 46 of set 8 | kirakira | Kirakira \n",
      "Processing Record 47 of set 8 | sunrise manor | Sunrise Manor \n",
      "Processing Record 48 of set 8 | vredendal | Vredendal \n",
      "Processing Record 49 of set 8 | barcelona | Barcelona \n",
      "Processing Record 50 of set 8 | sakakah | Sakakah \n",
      "Processing Record 1 of set 9 | la ronge | La Ronge \n",
      "Processing Record 2 of set 9 | talara | Talara \n",
      "Processing Record 3 of set 9 | olinda | Olinda \n",
      "Processing Record 4 of set 9 | bastia | Arrondissement de Bastia \n",
      "Processing Record 5 of set 9 | easton | Easton \n",
      "Processing Record 6 of set 9 | itoman | Itoman \n",
      "Processing Record 7 of set 9 | manakara | Manakara \n",
      "Processing Record 8 of set 9 | caluquembe | Caluquembe \n",
      "Processing Record 9 of set 9 | wilmington | Wilmington \n",
      "Processing Record 10 of set 9 | kanadey | Kanadey \n",
      "Processing Record 11 of set 9 | raga | Raja \n",
      "Processing Record 12 of set 9 | palauig | Palauig \n",
      "Processing Record 13 of set 9 | akyab | Sittwe \n",
      "Processing Record 14 of set 9 | taoudenni | Taoudenni \n",
      "Processing Record 15 of set 9 | pacific grove | Pacific Grove \n",
      "Processing Record 16 of set 9 | nakusp | Nakusp \n",
      "cumaribo not found.Skipping...\n",
      "Processing Record 17 of set 9 | yabrud | Yabrūd \n",
      "Processing Record 18 of set 9 | sao borja | São Borja \n",
      "Processing Record 19 of set 9 | lisala | Lisala \n",
      "attawapiskat not found.Skipping...\n",
      "Processing Record 20 of set 9 | scarborough | Scarborough \n",
      "Processing Record 21 of set 9 | mezhdurechensk | Mezhdurechensk \n",
      "Processing Record 22 of set 9 | nemuro | Nemuro \n",
      "Processing Record 23 of set 9 | zhigansk | Zhigansk \n",
      "Processing Record 24 of set 9 | impfondo | Impfondo \n",
      "Processing Record 25 of set 9 | bathsheba | Bathsheba \n",
      "Processing Record 26 of set 9 | wadi musa | Petra \n",
      "Processing Record 27 of set 9 | zhuanghe | Zhuanghe \n",
      "Processing Record 28 of set 9 | ibra | Ibrā’ \n",
      "Processing Record 29 of set 9 | lata | Lata \n",
      "Processing Record 30 of set 9 | velykyy burluk | Velykyy Burluk \n",
      "Processing Record 31 of set 9 | yenagoa | Yenagoa \n",
      "Processing Record 32 of set 9 | omsukchan | Omsukchan \n",
      "Processing Record 33 of set 9 | makakilo city | Makakilo City \n",
      "Processing Record 34 of set 9 | kavieng | Kavieng \n",
      "Processing Record 35 of set 9 | knysna | Knysna \n",
      "barawe not found.Skipping...\n"
     ]
    },
    {
     "name": "stdout",
     "output_type": "stream",
     "text": [
      "Processing Record 36 of set 9 | honningsvag | Honningsvåg \n",
      "Processing Record 37 of set 9 | esmeraldas | Esmeraldas \n",
      "Processing Record 38 of set 9 | canapi | Canapi \n",
      "Processing Record 39 of set 9 | kefamenanu | Kefamenanu \n",
      "Processing Record 40 of set 9 | hammerfest | Hammerfest \n",
      "Processing Record 41 of set 9 | todos santos | Todos Santos \n",
      "Processing Record 42 of set 9 | norden | Norden \n",
      "Processing Record 43 of set 9 | otradnoye | Otradnoye \n",
      "Processing Record 44 of set 9 | north platte | North Platte \n",
      "Processing Record 45 of set 9 | mmabatho | Mmabatho \n",
      "Processing Record 46 of set 9 | mareeba | Mareeba \n",
      "Processing Record 47 of set 9 | mumbwa | Mumbwa \n",
      "Processing Record 48 of set 9 | cap-aux-meules | Cap-aux-Meules \n",
      "Processing Record 49 of set 9 | waingapu | Waingapu \n",
      "Processing Record 50 of set 9 | rouvroy | Rouvroy \n",
      "Processing Record 1 of set 10 | bakchar | Bakchar \n",
      "Processing Record 2 of set 10 | mehamn | Mehamn \n",
      "Processing Record 3 of set 10 | jodhpur | Jodhpur \n",
      "Processing Record 4 of set 10 | zhigalovo | Zhigalovo \n",
      "Processing Record 5 of set 10 | vrangel | Vrangel' \n",
      "Processing Record 6 of set 10 | karratha | Karratha \n",
      "Processing Record 7 of set 10 | inta | Inta \n",
      "Processing Record 8 of set 10 | namibe | Mossamedes \n",
      "Processing Record 9 of set 10 | alta floresta | Alta Floresta \n",
      "Processing Record 10 of set 10 | ormara | Ormara \n",
      "Processing Record 11 of set 10 | katherine | Katherine \n",
      "marcona not found.Skipping...\n",
      "Processing Record 12 of set 10 | bridlington | Bridlington \n",
      "Processing Record 13 of set 10 | bonthe | Bonthe \n",
      "nam tha not found.Skipping...\n",
      "Processing Record 14 of set 10 | nago | Nago \n",
      "Processing Record 15 of set 10 | salalah | Salalah \n",
      "Processing Record 16 of set 10 | dzilam gonzalez | Dzilam González \n",
      "Processing Record 17 of set 10 | andreapol | Andreapol' \n",
      "atka not found.Skipping...\n",
      "Processing Record 18 of set 10 | eyl | Eyl \n",
      "Processing Record 19 of set 10 | san cristobal | San Cristobal \n",
      "labutta not found.Skipping...\n",
      "azimur not found.Skipping...\n",
      "Processing Record 20 of set 10 | lompoc | Lompoc \n",
      "Processing Record 21 of set 10 | adalaj | Adalaj \n",
      "Processing Record 22 of set 10 | tazovskiy | Tazovsky \n",
      "Processing Record 23 of set 10 | baykit | Baykit \n",
      "bolungarvik not found.Skipping...\n",
      "Processing Record 24 of set 10 | belmonte | Belmonte \n",
      "Processing Record 25 of set 10 | doha | Doha \n",
      "Processing Record 26 of set 10 | lorengau | Lorengau \n",
      "Processing Record 27 of set 10 | ciucurova | Ciucurova \n",
      "Processing Record 28 of set 10 | san andres | San Andrés \n",
      "Processing Record 29 of set 10 | micheweni | Micheweni \n",
      "Processing Record 30 of set 10 | aves | Aves \n",
      "brahmapuri not found.Skipping...\n",
      "Processing Record 31 of set 10 | savelugu | Savelugu \n",
      "Processing Record 32 of set 10 | kupang | Kupang \n",
      "Processing Record 33 of set 10 | timaru | Timaru \n",
      "Processing Record 34 of set 10 | verkhnyaya toyma | Verkhnyaya Toyma \n",
      "Processing Record 35 of set 10 | cascais | Cascais \n",
      "Processing Record 36 of set 10 | nouadhibou | Nouadhibou \n",
      "Processing Record 37 of set 10 | taian | Tai’an \n",
      "Processing Record 38 of set 10 | lakshmipur | Lakshmīpur \n",
      "Processing Record 39 of set 10 | san ramon de la nueva oran | Orán \n",
      "Processing Record 40 of set 10 | destin | Destin \n",
      "Processing Record 41 of set 10 | lapeer | Lapeer \n",
      "Processing Record 42 of set 10 | sao mateus do sul | São Mateus do Sul \n",
      "Processing Record 43 of set 10 | balad | Balad \n",
      "Processing Record 44 of set 10 | ust-nera | Ust-Nera \n",
      "Processing Record 45 of set 10 | visnes | Visnes \n",
      "Processing Record 46 of set 10 | russell | Russell \n",
      "Processing Record 47 of set 10 | moose factory | Moose Factory \n",
      "Processing Record 48 of set 10 | kurud | Kurud \n",
      "maghama not found.Skipping...\n",
      "Processing Record 49 of set 10 | bandarbeyla | Bandarbeyla \n",
      "Processing Record 50 of set 10 | djibo | Djibo \n",
      "Processing Record 1 of set 11 | uray | Uray \n",
      "Processing Record 2 of set 11 | almansa | Almansa \n",
      "Processing Record 3 of set 11 | kandrian | Kandrian \n",
      "Processing Record 4 of set 11 | jutai | Jutaí \n",
      "Processing Record 5 of set 11 | kuminskiy | Kuminskiy \n",
      "Processing Record 6 of set 11 | elizabeth city | Elizabeth City \n",
      "bargal not found.Skipping...\n",
      "Processing Record 7 of set 11 | fallon | Fallon \n",
      "Processing Record 8 of set 11 | atherton | Atherton \n",
      "Processing Record 9 of set 11 | la asuncion | La Asuncion \n",
      "Processing Record 10 of set 11 | capul | Capul \n",
      "Processing Record 11 of set 11 | buin | Buin \n",
      "Processing Record 12 of set 11 | mocuba | Mocuba \n",
      "Processing Record 13 of set 11 | mecca | Makkah al Mukarramah \n",
      "dyakonovo not found.Skipping...\n",
      "Processing Record 14 of set 11 | tokomaru | Tokomaru \n",
      "Processing Record 15 of set 11 | phayao | Phayao \n",
      "formoso do araguaia not found.Skipping...\n",
      "rawannawi not found.Skipping...\n",
      "Processing Record 16 of set 11 | jijiga | Jijiga \n",
      "qandahar not found.Skipping...\n",
      "Processing Record 17 of set 11 | zemio | Zemio \n",
      "Processing Record 18 of set 11 | kloulklubed | Kloulklubed \n",
      "Processing Record 19 of set 11 | ayan | Ayan \n",
      "Processing Record 20 of set 11 | washougal | Washougal \n",
      "Processing Record 21 of set 11 | jinka | Jinka \n",
      "Processing Record 22 of set 11 | sladkovo | Sladkovo \n",
      "Processing Record 23 of set 11 | wahiawa | Wahiawā \n",
      "Processing Record 24 of set 11 | bahia honda | Bahía Honda \n",
      "Processing Record 25 of set 11 | luancheng | Luancheng \n",
      "Processing Record 26 of set 11 | jilib | Jilib \n",
      "karamea not found.Skipping...\n",
      "Processing Record 27 of set 11 | skibbereen | Skibbereen \n",
      "Processing Record 28 of set 11 | inuvik | Inuvik \n",
      "Processing Record 29 of set 11 | tefe | Tefé \n",
      "Processing Record 30 of set 11 | turtas | Turtas \n",
      "Processing Record 31 of set 11 | aras | Aras \n",
      "Processing Record 32 of set 11 | wanning | Wanning \n",
      "Processing Record 33 of set 11 | birjand | Birjand \n",
      "Processing Record 34 of set 11 | kinkala | Kinkala \n",
      "Processing Record 35 of set 11 | amparafaravola | Amparafaravola \n",
      "Processing Record 36 of set 11 | carlyle | Carlyle \n",
      "vestbygda not found.Skipping...\n",
      "Processing Record 37 of set 11 | ranong | Ranong \n",
      "umm ruwabah not found.Skipping...\n",
      "Processing Record 38 of set 11 | coahuayana | Coahuayana Viejo \n",
      "valiug not found.Skipping...\n",
      "Processing Record 39 of set 11 | calbuco | Calbuco \n",
      "Processing Record 40 of set 11 | balaipungut | Balaipungut \n",
      "Processing Record 41 of set 11 | puerto narino | Puerto Nariño \n",
      "grand centre not found.Skipping...\n",
      "Processing Record 42 of set 11 | rafai | Rafai \n",
      "Processing Record 43 of set 11 | subtanjalla | Subtanjalla \n",
      "Processing Record 44 of set 11 | cockburn town | Cockburn Town \n",
      "Processing Record 45 of set 11 | ucluelet | Ucluelet \n",
      "Processing Record 46 of set 11 | manono | Manono \n",
      "Processing Record 47 of set 11 | nushki | Nushki \n",
      "Processing Record 48 of set 11 | iqaluit | Iqaluit \n",
      "Processing Record 49 of set 11 | taitung | Taitung City \n",
      "Processing Record 50 of set 11 | leninsk-kuznetskiy | Leninsk-Kuznetsky \n",
      "Processing Record 1 of set 12 | nara | Nara \n",
      "Processing Record 2 of set 12 | bajil | Bajil \n",
      "Processing Record 3 of set 12 | las vegas | Las Vegas \n",
      "Processing Record 4 of set 12 | kayanga | Kayanga \n",
      "Processing Record 5 of set 12 | kristinehamn | Kristinehamn \n",
      "Processing Record 6 of set 12 | krasnyy chikoy | Krasnyy Chikoy \n",
      "Processing Record 7 of set 12 | sydney | Sydney \n",
      "Processing Record 8 of set 12 | salinopolis | Salinópolis \n",
      "Processing Record 9 of set 12 | muravlenko | Muravlenko \n",
      "Processing Record 10 of set 12 | akhaldaba | Akhaldaba \n",
      "Processing Record 11 of set 12 | vestmanna | Vestmanna \n",
      "Processing Record 12 of set 12 | aromashevo | Aromashevo \n",
      "Processing Record 13 of set 12 | aktash | Aktash \n",
      "Processing Record 14 of set 12 | bubaque | Bubaque \n",
      "Processing Record 15 of set 12 | lufilufi | Lufilufi \n",
      "Processing Record 16 of set 12 | tokur | Tokur \n",
      "---------------------------------------\n",
      "Data Retrieval Complete\n",
      "---------------------------------------\n"
     ]
    }
   ],
   "source": [
    "#Create Base URL, Imperial gets temperature in Fahrenheit and speed in mph\n",
    "base_url=\"http://api.openweathermap.org/data/2.5/weather?\"+\"appid=\"+weather_api_key+\"&units=imperial&q=\"\n",
    "#Create Empty DataFrame to hold API Reponse per city\n",
    "CityWeather=pd.DataFrame(columns=['City','Lat','Lng','Max Temp','Humidity','Cloudiness','Wind Speed','Country','Date'])\n",
    "#Set Values for getting count of records processesd and sets looped\n",
    "cnt=1\n",
    "setcount=1\n",
    "print(\"Beginning Data Retrieval\")\n",
    "print(\"-------------------------------\")\n",
    "for city in cities:\n",
    "    try:\n",
    "        response=requests.get(base_url+city).json() #Append City to base URL and call API\n",
    "        print(f\"Processing Record {cnt} of set {setcount} | {city} | {response['name']} \")\n",
    "    \n",
    "        CityWeather=CityWeather.append({'City':city,'Lat':response['coord']['lat'],'Lng':response['coord']['lon'],\n",
    "                                    'Max Temp':response['main']['temp_max'],'Humidity':response['main']['humidity'],\n",
    "                                    'Cloudiness':response['clouds']['all'],'Wind Speed':response['wind']['speed'],\n",
    "                                    'Country':response['sys']['country'],'Date':response['dt']\n",
    "                                   },ignore_index=True)\n",
    "        cnt=cnt+1\n",
    "        \n",
    "        if cnt==51: # Each Set consists of 50 records\n",
    "            cnt=1\n",
    "            setcount=setcount+1\n",
    "    except: # If API call does not return data, then print skip message\n",
    "        print(f\"{city} not found.Skipping...\")\n",
    "\n",
    "print(\"---------------------------------------\")\n",
    "print(\"Data Retrieval Complete\")\n",
    "print(\"---------------------------------------\")\n",
    "    "
   ]
  },
  {
   "cell_type": "markdown",
   "metadata": {},
   "source": [
    "### Convert Raw Data to DataFrame\n",
    "* Export the city data into a .csv.\n",
    "* Display the DataFrame"
   ]
  },
  {
   "cell_type": "code",
   "execution_count": 6,
   "metadata": {},
   "outputs": [
    {
     "data": {
      "text/html": [
       "<div>\n",
       "<style scoped>\n",
       "    .dataframe tbody tr th:only-of-type {\n",
       "        vertical-align: middle;\n",
       "    }\n",
       "\n",
       "    .dataframe tbody tr th {\n",
       "        vertical-align: top;\n",
       "    }\n",
       "\n",
       "    .dataframe thead th {\n",
       "        text-align: right;\n",
       "    }\n",
       "</style>\n",
       "<table border=\"1\" class=\"dataframe\">\n",
       "  <thead>\n",
       "    <tr style=\"text-align: right;\">\n",
       "      <th></th>\n",
       "      <th>City</th>\n",
       "      <th>Lat</th>\n",
       "      <th>Lng</th>\n",
       "      <th>Max Temp</th>\n",
       "      <th>Humidity</th>\n",
       "      <th>Cloudiness</th>\n",
       "      <th>Wind Speed</th>\n",
       "      <th>Country</th>\n",
       "      <th>Date</th>\n",
       "    </tr>\n",
       "  </thead>\n",
       "  <tbody>\n",
       "    <tr>\n",
       "      <th>0</th>\n",
       "      <td>polunochnoye</td>\n",
       "      <td>60.8697</td>\n",
       "      <td>60.4153</td>\n",
       "      <td>33.53</td>\n",
       "      <td>79</td>\n",
       "      <td>20</td>\n",
       "      <td>8.61</td>\n",
       "      <td>RU</td>\n",
       "      <td>1634669089</td>\n",
       "    </tr>\n",
       "    <tr>\n",
       "      <th>1</th>\n",
       "      <td>berlevag</td>\n",
       "      <td>70.8578</td>\n",
       "      <td>29.0864</td>\n",
       "      <td>28.35</td>\n",
       "      <td>80</td>\n",
       "      <td>40</td>\n",
       "      <td>12.66</td>\n",
       "      <td>NO</td>\n",
       "      <td>1634669089</td>\n",
       "    </tr>\n",
       "    <tr>\n",
       "      <th>2</th>\n",
       "      <td>rikitea</td>\n",
       "      <td>-23.1203</td>\n",
       "      <td>-134.9692</td>\n",
       "      <td>74.93</td>\n",
       "      <td>71</td>\n",
       "      <td>0</td>\n",
       "      <td>20.42</td>\n",
       "      <td>PF</td>\n",
       "      <td>1634669090</td>\n",
       "    </tr>\n",
       "    <tr>\n",
       "      <th>3</th>\n",
       "      <td>new norfolk</td>\n",
       "      <td>-42.7826</td>\n",
       "      <td>147.0587</td>\n",
       "      <td>39.70</td>\n",
       "      <td>74</td>\n",
       "      <td>6</td>\n",
       "      <td>1.92</td>\n",
       "      <td>AU</td>\n",
       "      <td>1634669090</td>\n",
       "    </tr>\n",
       "    <tr>\n",
       "      <th>4</th>\n",
       "      <td>hambantota</td>\n",
       "      <td>6.1241</td>\n",
       "      <td>81.1185</td>\n",
       "      <td>77.34</td>\n",
       "      <td>100</td>\n",
       "      <td>0</td>\n",
       "      <td>2.30</td>\n",
       "      <td>LK</td>\n",
       "      <td>1634669090</td>\n",
       "    </tr>\n",
       "  </tbody>\n",
       "</table>\n",
       "</div>"
      ],
      "text/plain": [
       "           City      Lat       Lng  Max Temp Humidity Cloudiness  Wind Speed  \\\n",
       "0  polunochnoye  60.8697   60.4153     33.53       79         20        8.61   \n",
       "1      berlevag  70.8578   29.0864     28.35       80         40       12.66   \n",
       "2       rikitea -23.1203 -134.9692     74.93       71          0       20.42   \n",
       "3   new norfolk -42.7826  147.0587     39.70       74          6        1.92   \n",
       "4    hambantota   6.1241   81.1185     77.34      100          0        2.30   \n",
       "\n",
       "  Country        Date  \n",
       "0      RU  1634669089  \n",
       "1      NO  1634669089  \n",
       "2      PF  1634669090  \n",
       "3      AU  1634669090  \n",
       "4      LK  1634669090  "
      ]
     },
     "execution_count": 6,
     "metadata": {},
     "output_type": "execute_result"
    }
   ],
   "source": [
    "#CityWeather is already defined as a dataframe,so need not convert it.\n",
    "#Export to CSV\n",
    "CityWeather.to_csv('CityWeather.csv',index=False)\n",
    "CityWeather.head()"
   ]
  },
  {
   "cell_type": "code",
   "execution_count": 7,
   "metadata": {},
   "outputs": [
    {
     "data": {
      "text/html": [
       "<div>\n",
       "<style scoped>\n",
       "    .dataframe tbody tr th:only-of-type {\n",
       "        vertical-align: middle;\n",
       "    }\n",
       "\n",
       "    .dataframe tbody tr th {\n",
       "        vertical-align: top;\n",
       "    }\n",
       "\n",
       "    .dataframe thead th {\n",
       "        text-align: right;\n",
       "    }\n",
       "</style>\n",
       "<table border=\"1\" class=\"dataframe\">\n",
       "  <thead>\n",
       "    <tr style=\"text-align: right;\">\n",
       "      <th></th>\n",
       "      <th>Lat</th>\n",
       "      <th>Lng</th>\n",
       "      <th>Max Temp</th>\n",
       "      <th>Humidity</th>\n",
       "      <th>Cloudiness</th>\n",
       "      <th>Wind Speed</th>\n",
       "      <th>Date</th>\n",
       "    </tr>\n",
       "  </thead>\n",
       "  <tbody>\n",
       "    <tr>\n",
       "      <th>count</th>\n",
       "      <td>566.000000</td>\n",
       "      <td>566.000000</td>\n",
       "      <td>566.000000</td>\n",
       "      <td>566.000000</td>\n",
       "      <td>566.000000</td>\n",
       "      <td>566.000000</td>\n",
       "      <td>5.660000e+02</td>\n",
       "    </tr>\n",
       "    <tr>\n",
       "      <th>mean</th>\n",
       "      <td>20.560561</td>\n",
       "      <td>19.717951</td>\n",
       "      <td>61.468622</td>\n",
       "      <td>70.772085</td>\n",
       "      <td>58.014134</td>\n",
       "      <td>7.468216</td>\n",
       "      <td>1.634669e+09</td>\n",
       "    </tr>\n",
       "    <tr>\n",
       "      <th>std</th>\n",
       "      <td>33.108757</td>\n",
       "      <td>87.917343</td>\n",
       "      <td>21.076944</td>\n",
       "      <td>21.149681</td>\n",
       "      <td>40.948876</td>\n",
       "      <td>5.389708</td>\n",
       "      <td>8.258008e+01</td>\n",
       "    </tr>\n",
       "    <tr>\n",
       "      <th>min</th>\n",
       "      <td>-54.800000</td>\n",
       "      <td>-175.200000</td>\n",
       "      <td>-12.890000</td>\n",
       "      <td>7.000000</td>\n",
       "      <td>0.000000</td>\n",
       "      <td>0.000000</td>\n",
       "      <td>1.634669e+09</td>\n",
       "    </tr>\n",
       "    <tr>\n",
       "      <th>25%</th>\n",
       "      <td>-7.196100</td>\n",
       "      <td>-57.206850</td>\n",
       "      <td>45.172500</td>\n",
       "      <td>59.000000</td>\n",
       "      <td>10.250000</td>\n",
       "      <td>3.252500</td>\n",
       "      <td>1.634669e+09</td>\n",
       "    </tr>\n",
       "    <tr>\n",
       "      <th>50%</th>\n",
       "      <td>23.622500</td>\n",
       "      <td>25.601700</td>\n",
       "      <td>67.925000</td>\n",
       "      <td>74.500000</td>\n",
       "      <td>75.000000</td>\n",
       "      <td>6.160000</td>\n",
       "      <td>1.634669e+09</td>\n",
       "    </tr>\n",
       "    <tr>\n",
       "      <th>75%</th>\n",
       "      <td>49.974275</td>\n",
       "      <td>93.347700</td>\n",
       "      <td>77.215000</td>\n",
       "      <td>87.000000</td>\n",
       "      <td>100.000000</td>\n",
       "      <td>10.352500</td>\n",
       "      <td>1.634669e+09</td>\n",
       "    </tr>\n",
       "    <tr>\n",
       "      <th>max</th>\n",
       "      <td>78.218600</td>\n",
       "      <td>179.316700</td>\n",
       "      <td>98.330000</td>\n",
       "      <td>100.000000</td>\n",
       "      <td>100.000000</td>\n",
       "      <td>35.680000</td>\n",
       "      <td>1.634669e+09</td>\n",
       "    </tr>\n",
       "  </tbody>\n",
       "</table>\n",
       "</div>"
      ],
      "text/plain": [
       "              Lat         Lng    Max Temp    Humidity  Cloudiness  Wind Speed  \\\n",
       "count  566.000000  566.000000  566.000000  566.000000  566.000000  566.000000   \n",
       "mean    20.560561   19.717951   61.468622   70.772085   58.014134    7.468216   \n",
       "std     33.108757   87.917343   21.076944   21.149681   40.948876    5.389708   \n",
       "min    -54.800000 -175.200000  -12.890000    7.000000    0.000000    0.000000   \n",
       "25%     -7.196100  -57.206850   45.172500   59.000000   10.250000    3.252500   \n",
       "50%     23.622500   25.601700   67.925000   74.500000   75.000000    6.160000   \n",
       "75%     49.974275   93.347700   77.215000   87.000000  100.000000   10.352500   \n",
       "max     78.218600  179.316700   98.330000  100.000000  100.000000   35.680000   \n",
       "\n",
       "               Date  \n",
       "count  5.660000e+02  \n",
       "mean   1.634669e+09  \n",
       "std    8.258008e+01  \n",
       "min    1.634669e+09  \n",
       "25%    1.634669e+09  \n",
       "50%    1.634669e+09  \n",
       "75%    1.634669e+09  \n",
       "max    1.634669e+09  "
      ]
     },
     "execution_count": 7,
     "metadata": {},
     "output_type": "execute_result"
    }
   ],
   "source": [
    "#Convert Columns to Float\n",
    "CityWeather['Humidity']=CityWeather['Humidity'].astype(float)\n",
    "CityWeather['Cloudiness']=CityWeather['Cloudiness'].astype(float)\n",
    "CityWeather['Date']=CityWeather['Date'].astype(float)\n",
    "CityWeather.describe()"
   ]
  },
  {
   "cell_type": "markdown",
   "metadata": {},
   "source": [
    "## Inspect the data and remove the cities where the humidity > 100%.\n",
    "----\n",
    "Skip this step if there are no cities that have humidity > 100%. "
   ]
  },
  {
   "cell_type": "code",
   "execution_count": 6,
   "metadata": {},
   "outputs": [
    {
     "data": {
      "text/html": [
       "<div>\n",
       "<style scoped>\n",
       "    .dataframe tbody tr th:only-of-type {\n",
       "        vertical-align: middle;\n",
       "    }\n",
       "\n",
       "    .dataframe tbody tr th {\n",
       "        vertical-align: top;\n",
       "    }\n",
       "\n",
       "    .dataframe thead th {\n",
       "        text-align: right;\n",
       "    }\n",
       "</style>\n",
       "<table border=\"1\" class=\"dataframe\">\n",
       "  <thead>\n",
       "    <tr style=\"text-align: right;\">\n",
       "      <th></th>\n",
       "      <th>Lat</th>\n",
       "      <th>Lng</th>\n",
       "      <th>Max Temp</th>\n",
       "      <th>Humidity</th>\n",
       "      <th>Cloudiness</th>\n",
       "      <th>Wind Speed</th>\n",
       "      <th>Date</th>\n",
       "    </tr>\n",
       "  </thead>\n",
       "  <tbody>\n",
       "    <tr>\n",
       "      <th>count</th>\n",
       "      <td>550.000000</td>\n",
       "      <td>550.000000</td>\n",
       "      <td>550.000000</td>\n",
       "      <td>550.000000</td>\n",
       "      <td>550.000000</td>\n",
       "      <td>550.000000</td>\n",
       "      <td>5.500000e+02</td>\n",
       "    </tr>\n",
       "    <tr>\n",
       "      <th>mean</th>\n",
       "      <td>19.973545</td>\n",
       "      <td>17.124400</td>\n",
       "      <td>58.331400</td>\n",
       "      <td>67.890909</td>\n",
       "      <td>52.141818</td>\n",
       "      <td>8.544800</td>\n",
       "      <td>1.585764e+09</td>\n",
       "    </tr>\n",
       "    <tr>\n",
       "      <th>std</th>\n",
       "      <td>33.284840</td>\n",
       "      <td>91.595451</td>\n",
       "      <td>25.795297</td>\n",
       "      <td>20.864881</td>\n",
       "      <td>35.766469</td>\n",
       "      <td>6.078869</td>\n",
       "      <td>5.539674e+01</td>\n",
       "    </tr>\n",
       "    <tr>\n",
       "      <th>min</th>\n",
       "      <td>-54.800000</td>\n",
       "      <td>-179.170000</td>\n",
       "      <td>-11.340000</td>\n",
       "      <td>9.000000</td>\n",
       "      <td>0.000000</td>\n",
       "      <td>0.160000</td>\n",
       "      <td>1.585764e+09</td>\n",
       "    </tr>\n",
       "    <tr>\n",
       "      <th>25%</th>\n",
       "      <td>-8.077500</td>\n",
       "      <td>-64.627500</td>\n",
       "      <td>42.800000</td>\n",
       "      <td>55.000000</td>\n",
       "      <td>20.000000</td>\n",
       "      <td>4.525000</td>\n",
       "      <td>1.585764e+09</td>\n",
       "    </tr>\n",
       "    <tr>\n",
       "      <th>50%</th>\n",
       "      <td>23.630000</td>\n",
       "      <td>19.635000</td>\n",
       "      <td>64.940000</td>\n",
       "      <td>72.000000</td>\n",
       "      <td>57.000000</td>\n",
       "      <td>7.325000</td>\n",
       "      <td>1.585764e+09</td>\n",
       "    </tr>\n",
       "    <tr>\n",
       "      <th>75%</th>\n",
       "      <td>48.672500</td>\n",
       "      <td>97.350000</td>\n",
       "      <td>78.800000</td>\n",
       "      <td>83.000000</td>\n",
       "      <td>86.750000</td>\n",
       "      <td>11.410000</td>\n",
       "      <td>1.585764e+09</td>\n",
       "    </tr>\n",
       "    <tr>\n",
       "      <th>max</th>\n",
       "      <td>78.220000</td>\n",
       "      <td>179.320000</td>\n",
       "      <td>102.200000</td>\n",
       "      <td>100.000000</td>\n",
       "      <td>100.000000</td>\n",
       "      <td>46.080000</td>\n",
       "      <td>1.585764e+09</td>\n",
       "    </tr>\n",
       "  </tbody>\n",
       "</table>\n",
       "</div>"
      ],
      "text/plain": [
       "              Lat         Lng    Max Temp    Humidity  Cloudiness  Wind Speed  \\\n",
       "count  550.000000  550.000000  550.000000  550.000000  550.000000  550.000000   \n",
       "mean    19.973545   17.124400   58.331400   67.890909   52.141818    8.544800   \n",
       "std     33.284840   91.595451   25.795297   20.864881   35.766469    6.078869   \n",
       "min    -54.800000 -179.170000  -11.340000    9.000000    0.000000    0.160000   \n",
       "25%     -8.077500  -64.627500   42.800000   55.000000   20.000000    4.525000   \n",
       "50%     23.630000   19.635000   64.940000   72.000000   57.000000    7.325000   \n",
       "75%     48.672500   97.350000   78.800000   83.000000   86.750000   11.410000   \n",
       "max     78.220000  179.320000  102.200000  100.000000  100.000000   46.080000   \n",
       "\n",
       "               Date  \n",
       "count  5.500000e+02  \n",
       "mean   1.585764e+09  \n",
       "std    5.539674e+01  \n",
       "min    1.585764e+09  \n",
       "25%    1.585764e+09  \n",
       "50%    1.585764e+09  \n",
       "75%    1.585764e+09  \n",
       "max    1.585764e+09  "
      ]
     },
     "execution_count": 6,
     "metadata": {},
     "output_type": "execute_result"
    }
   ],
   "source": [
    "# Skipping this step as per describe of the dataframe Max Humidity is 100."
   ]
  },
  {
   "cell_type": "code",
   "execution_count": 17,
   "metadata": {},
   "outputs": [
    {
     "data": {
      "text/plain": [
       "Int64Index([], dtype='int64')"
      ]
     },
     "execution_count": 17,
     "metadata": {},
     "output_type": "execute_result"
    }
   ],
   "source": [
    "#  Get the indices of cities that have humidity over 100%.\n"
   ]
  },
  {
   "cell_type": "code",
   "execution_count": 19,
   "metadata": {},
   "outputs": [
    {
     "data": {
      "text/html": [
       "<div>\n",
       "<style scoped>\n",
       "    .dataframe tbody tr th:only-of-type {\n",
       "        vertical-align: middle;\n",
       "    }\n",
       "\n",
       "    .dataframe tbody tr th {\n",
       "        vertical-align: top;\n",
       "    }\n",
       "\n",
       "    .dataframe thead th {\n",
       "        text-align: right;\n",
       "    }\n",
       "</style>\n",
       "<table border=\"1\" class=\"dataframe\">\n",
       "  <thead>\n",
       "    <tr style=\"text-align: right;\">\n",
       "      <th></th>\n",
       "      <th>City</th>\n",
       "      <th>Lat</th>\n",
       "      <th>Lng</th>\n",
       "      <th>Max Temp</th>\n",
       "      <th>Humidity</th>\n",
       "      <th>Cloudiness</th>\n",
       "      <th>Wind Speed</th>\n",
       "      <th>Country</th>\n",
       "      <th>Date</th>\n",
       "    </tr>\n",
       "  </thead>\n",
       "  <tbody>\n",
       "    <tr>\n",
       "      <td>0</td>\n",
       "      <td>butaritari</td>\n",
       "      <td>3.07</td>\n",
       "      <td>172.79</td>\n",
       "      <td>83.32</td>\n",
       "      <td>74</td>\n",
       "      <td>84</td>\n",
       "      <td>10.42</td>\n",
       "      <td>KI</td>\n",
       "      <td>1593605283</td>\n",
       "    </tr>\n",
       "    <tr>\n",
       "      <td>1</td>\n",
       "      <td>yerbogachen</td>\n",
       "      <td>61.28</td>\n",
       "      <td>108.01</td>\n",
       "      <td>79.52</td>\n",
       "      <td>58</td>\n",
       "      <td>20</td>\n",
       "      <td>7.70</td>\n",
       "      <td>RU</td>\n",
       "      <td>1593605121</td>\n",
       "    </tr>\n",
       "    <tr>\n",
       "      <td>2</td>\n",
       "      <td>cape town</td>\n",
       "      <td>-33.93</td>\n",
       "      <td>18.42</td>\n",
       "      <td>73.00</td>\n",
       "      <td>77</td>\n",
       "      <td>27</td>\n",
       "      <td>4.70</td>\n",
       "      <td>ZA</td>\n",
       "      <td>1593605039</td>\n",
       "    </tr>\n",
       "    <tr>\n",
       "      <td>3</td>\n",
       "      <td>touba</td>\n",
       "      <td>8.28</td>\n",
       "      <td>-7.68</td>\n",
       "      <td>79.97</td>\n",
       "      <td>75</td>\n",
       "      <td>82</td>\n",
       "      <td>3.58</td>\n",
       "      <td>CI</td>\n",
       "      <td>1593605284</td>\n",
       "    </tr>\n",
       "    <tr>\n",
       "      <td>4</td>\n",
       "      <td>jamestown</td>\n",
       "      <td>42.10</td>\n",
       "      <td>-79.24</td>\n",
       "      <td>64.00</td>\n",
       "      <td>88</td>\n",
       "      <td>1</td>\n",
       "      <td>6.93</td>\n",
       "      <td>US</td>\n",
       "      <td>1593605284</td>\n",
       "    </tr>\n",
       "  </tbody>\n",
       "</table>\n",
       "</div>"
      ],
      "text/plain": [
       "          City    Lat     Lng  Max Temp  Humidity  Cloudiness  Wind Speed  \\\n",
       "0   butaritari   3.07  172.79     83.32        74          84       10.42   \n",
       "1  yerbogachen  61.28  108.01     79.52        58          20        7.70   \n",
       "2    cape town -33.93   18.42     73.00        77          27        4.70   \n",
       "3        touba   8.28   -7.68     79.97        75          82        3.58   \n",
       "4    jamestown  42.10  -79.24     64.00        88           1        6.93   \n",
       "\n",
       "  Country        Date  \n",
       "0      KI  1593605283  \n",
       "1      RU  1593605121  \n",
       "2      ZA  1593605039  \n",
       "3      CI  1593605284  \n",
       "4      US  1593605284  "
      ]
     },
     "execution_count": 19,
     "metadata": {},
     "output_type": "execute_result"
    }
   ],
   "source": [
    "# Make a new DataFrame equal to the city data to drop all humidity outliers by index.\n",
    "# Passing \"inplace=False\" will make a copy of the city_data DataFrame, which we call \"clean_city_data\".\n"
   ]
  },
  {
   "cell_type": "code",
   "execution_count": null,
   "metadata": {},
   "outputs": [],
   "source": [
    "\n"
   ]
  },
  {
   "cell_type": "markdown",
   "metadata": {},
   "source": [
    "## Plotting the Data\n",
    "* Use proper labeling of the plots using plot titles (including date of analysis) and axes labels.\n",
    "* Save the plotted figures as .pngs."
   ]
  },
  {
   "cell_type": "markdown",
   "metadata": {},
   "source": [
    "## Latitude vs. Temperature Plot"
   ]
  },
  {
   "cell_type": "code",
   "execution_count": 9,
   "metadata": {
    "scrolled": true
   },
   "outputs": [
    {
     "data": {
      "image/png": "[encoded data removed]",
      "text/plain": [
       "<Figure size 432x288 with 1 Axes>"
      ]
     },
     "metadata": {
      "needs_background": "light"
     },
     "output_type": "display_data"
    }
   ],
   "source": [
    "plt.scatter(CityWeather['Lat'],CityWeather['Lng'])\n",
    "plt.title('City Latitude vs Max Temperature (10/19/2021)')\n",
    "plt.xlabel('Latitude')\n",
    "plt.ylabel('Max Temperature(F)')\n",
    "plt.grid()\n",
    "plt.savefig('LatitudeVsMaxTemp.png')\n",
    "plt.show()\n",
    "#At 0 Degree Latitude,Temperatures range from -100 F to 150 F (Approx) today."
   ]
  },
  {
   "cell_type": "markdown",
   "metadata": {},
   "source": [
    "## Latitude vs. Humidity Plot"
   ]
  },
  {
   "cell_type": "code",
   "execution_count": 10,
   "metadata": {},
   "outputs": [
    {
     "data": {
      "image/png": "[encoded data removed]",
      "text/plain": [
       "<Figure size 432x288 with 1 Axes>"
      ]
     },
     "metadata": {
      "needs_background": "light"
     },
     "output_type": "display_data"
    }
   ],
   "source": [
    "plt.scatter(CityWeather['Lat'],CityWeather['Humidity'])\n",
    "plt.title('City Latitude vs Humidity (10/19/2021)')\n",
    "plt.xlabel('Latitude')\n",
    "plt.ylabel('Humidity(%)')\n",
    "plt.grid()\n",
    "plt.savefig('LatitudeVsHumidity.png')\n",
    "plt.show()\n",
    "#Lowest Humidity is between 20 and 40 degree latitude, (approx) at 30 degree."
   ]
  },
  {
   "cell_type": "markdown",
   "metadata": {},
   "source": [
    "## Latitude vs. Cloudiness Plot"
   ]
  },
  {
   "cell_type": "code",
   "execution_count": 11,
   "metadata": {},
   "outputs": [
    {
     "data": {
      "image/png": "[encoded data removed]",
      "text/plain": [
       "<Figure size 432x288 with 1 Axes>"
      ]
     },
     "metadata": {
      "needs_background": "light"
     },
     "output_type": "display_data"
    }
   ],
   "source": [
    "plt.scatter(CityWeather['Lat'],CityWeather['Cloudiness'])\n",
    "plt.title('City Latitude vs Cloudiness (10/18/2021)')\n",
    "plt.xlabel('Latitude')\n",
    "plt.ylabel('Cloudiness(%)')\n",
    "plt.grid()\n",
    "plt.savefig('LatitudeVsCloudiness.png')\n",
    "plt.show()\n",
    "# Looks like locations with high humidity have high cloudiness"
   ]
  },
  {
   "cell_type": "markdown",
   "metadata": {},
   "source": [
    "## Latitude vs. Wind Speed Plot"
   ]
  },
  {
   "cell_type": "code",
   "execution_count": 12,
   "metadata": {},
   "outputs": [
    {
     "data": {
      "image/png": "[encoded data removed]",
      "text/plain": [
       "<Figure size 432x288 with 1 Axes>"
      ]
     },
     "metadata": {
      "needs_background": "light"
     },
     "output_type": "display_data"
    }
   ],
   "source": [
    "plt.scatter(CityWeather['Lat'],CityWeather['Wind Speed'])\n",
    "plt.title('City Latitude vs Wind Speed (10/18/2021)')\n",
    "plt.xlabel('Latitude')\n",
    "plt.ylabel('Wind Speed(mph)')\n",
    "plt.grid()\n",
    "plt.savefig('LatitudeVsWindspeed.png')\n",
    "plt.show()\n",
    "#Highest Wind speed is at -58 degree (approx) Latitiude"
   ]
  },
  {
   "cell_type": "markdown",
   "metadata": {},
   "source": [
    "## Linear Regression"
   ]
  },
  {
   "cell_type": "code",
   "execution_count": 14,
   "metadata": {},
   "outputs": [],
   "source": [
    "#North Hemisphere data set\n",
    "NorthHemisphere=CityWeather[CityWeather['Lat']>=0]\n",
    "#South Hemisphere data set\n",
    "SouthHemisphere=CityWeather[CityWeather['Lat']<0]"
   ]
  },
  {
   "cell_type": "markdown",
   "metadata": {},
   "source": [
    "####  Northern Hemisphere - Max Temp vs. Latitude Linear Regression"
   ]
  },
  {
   "cell_type": "code",
   "execution_count": 16,
   "metadata": {},
   "outputs": [
    {
     "name": "stdout",
     "output_type": "stream",
     "text": [
      "The r-value is: 0.6844763178884982\n"
     ]
    },
    {
     "data": {
      "image/png": "[encoded data removed]",
      "text/plain": [
       "<Figure size 432x288 with 1 Axes>"
      ]
     },
     "metadata": {
      "needs_background": "light"
     },
     "output_type": "display_data"
    }
   ],
   "source": [
    "x_values=NorthHemisphere['Lat']\n",
    "y_values=NorthHemisphere['Max Temp']\n",
    "(slope, intercept, rvalue, pvalue, stderr) = linregress(x_values,y_values)\n",
    "#print(slope, intercept, rvalue, pvalue, stderr)\n",
    "regressvalues=x_values*slope+intercept\n",
    "line_eq=f\"y = {str(round(slope,2))}x +  {str(round(intercept,2))}\"\n",
    "#print(line_eq)\n",
    "\n",
    "plt.scatter(x_values,y_values)\n",
    "plt.xlabel('Latitude')\n",
    "plt.ylabel('Max Temp')\n",
    "plt.plot(x_values,regressvalues,'red')\n",
    "plt.annotate(line_eq,(6,-18),fontsize=15,color='red')\n",
    "print(f\"The r-value is: {rvalue**2}\")\n",
    "plt.savefig('NH_LatVsMaxTemp.png')\n",
    "plt.show()\n",
    "# Looks like as the one travles from North to equator temperature increases. \n",
    "# R value (~ 0.7) shows a strong uphill linear relantionship"
   ]
  },
  {
   "cell_type": "markdown",
   "metadata": {},
   "source": [
    "####  Southern Hemisphere - Max Temp vs. Latitude Linear Regression"
   ]
  },
  {
   "cell_type": "code",
   "execution_count": 18,
   "metadata": {},
   "outputs": [
    {
     "name": "stdout",
     "output_type": "stream",
     "text": [
      "The r-value is: 0.4289469260508109\n"
     ]
    },
    {
     "data": {
      "image/png": "[encoded data removed]",
      "text/plain": [
       "<Figure size 432x288 with 1 Axes>"
      ]
     },
     "metadata": {
      "needs_background": "light"
     },
     "output_type": "display_data"
    }
   ],
   "source": [
    "x_values=SouthHemisphere['Lat']\n",
    "y_values=SouthHemisphere['Max Temp']\n",
    "(slope, intercept, rvalue, pvalue, stderr) = linregress(x_values,y_values)\n",
    "#print(slope, intercept, rvalue, pvalue, stderr)\n",
    "regressvalues=x_values*slope+intercept\n",
    "line_eq=f\"y = {str(round(slope,2))}x +  {str(round(intercept,2))}\"\n",
    "#print(line_eq)\n",
    "\n",
    "plt.scatter(x_values,y_values)\n",
    "plt.xlabel('Latitude')\n",
    "plt.ylabel('Max Temp')\n",
    "plt.plot(x_values,regressvalues,'red')\n",
    "plt.annotate(line_eq,(-55,90),fontsize=15,color='red')\n",
    "print(f\"The r-value is: {rvalue**2}\")\n",
    "plt.savefig('SH_LatVsMaxTemp.png')\n",
    "plt.show()\n",
    "# Looks like as the one travles from South to equator temperature increases. \n",
    "# R value (~ 0.43) shows a weak uphill linear relantionship\n",
    "#Norther Hemisphere has warmer teperatures than Souther hemisphere."
   ]
  },
  {
   "cell_type": "markdown",
   "metadata": {},
   "source": [
    "####  Northern Hemisphere - Humidity (%) vs. Latitude Linear Regression"
   ]
  },
  {
   "cell_type": "code",
   "execution_count": 19,
   "metadata": {},
   "outputs": [
    {
     "name": "stdout",
     "output_type": "stream",
     "text": [
      "The r-value is: 0.028041562216561313\n"
     ]
    },
    {
     "data": {
      "image/png": "[encoded data removed]",
      "text/plain": [
       "<Figure size 432x288 with 1 Axes>"
      ]
     },
     "metadata": {
      "needs_background": "light"
     },
     "output_type": "display_data"
    }
   ],
   "source": [
    "x_values=NorthHemisphere['Lat']\n",
    "y_values=NorthHemisphere['Humidity']\n",
    "(slope, intercept, rvalue, pvalue, stderr) = linregress(x_values,y_values)\n",
    "#print(slope, intercept, rvalue, pvalue, stderr)\n",
    "regressvalues=x_values*slope+intercept\n",
    "line_eq=f\"y = {str(round(slope,2))}x +  {str(round(intercept,2))}\"\n",
    "#print(line_eq)\n",
    "\n",
    "plt.scatter(x_values,y_values)\n",
    "plt.xlabel('Latitude')\n",
    "plt.ylabel('Humidity')\n",
    "plt.plot(x_values,regressvalues,'red')\n",
    "plt.annotate(line_eq,(40,15),fontsize=15,color='red')\n",
    "print(f\"The r-value is: {rvalue**2}\")\n",
    "plt.savefig('NH_LatVsHumidity.png')\n",
    "plt.show()\n",
    "# Looks like there is no corelation between latitude and humidity\n",
    "#Almost 0 R (approx 0.03) shows no linear relationship"
   ]
  },
  {
   "cell_type": "markdown",
   "metadata": {},
   "source": [
    "####  Southern Hemisphere - Humidity (%) vs. Latitude Linear Regression"
   ]
  },
  {
   "cell_type": "code",
   "execution_count": 22,
   "metadata": {},
   "outputs": [
    {
     "name": "stdout",
     "output_type": "stream",
     "text": [
      "The r-value is: 0.02022001321210142\n"
     ]
    },
    {
     "data": {
      "image/png": "[encoded data removed]",
      "text/plain": [
       "<Figure size 432x288 with 1 Axes>"
      ]
     },
     "metadata": {
      "needs_background": "light"
     },
     "output_type": "display_data"
    }
   ],
   "source": [
    "x_values=SouthHemisphere['Lat']\n",
    "y_values=SouthHemisphere['Humidity']\n",
    "(slope, intercept, rvalue, pvalue, stderr) = linregress(x_values,y_values)\n",
    "#print(slope, intercept, rvalue, pvalue, stderr)\n",
    "regressvalues=x_values*slope+intercept\n",
    "line_eq=f\"y = {str(round(slope,2))}x +  {str(round(intercept,2))}\"\n",
    "#print(line_eq)\n",
    "\n",
    "plt.scatter(x_values,y_values)\n",
    "plt.xlabel('Latitude')\n",
    "plt.ylabel('Humidity')\n",
    "plt.plot(x_values,regressvalues,'red')\n",
    "plt.annotate(line_eq,(-50,45),fontsize=15,color='red')\n",
    "print(f\"The r-value is: {rvalue**2}\")\n",
    "plt.savefig('SH_LatVsHumidity.png')\n",
    "plt.show()\n",
    "# Looks like there is no corelation between latitude and humidity\n",
    "#Almost 0 R (approx 0.02) shows no linear relationship\n",
    "#Southern Hemishpere is in general lesser humid than northern hemisphere"
   ]
  },
  {
   "cell_type": "markdown",
   "metadata": {},
   "source": [
    "####  Northern Hemisphere - Cloudiness (%) vs. Latitude Linear Regression"
   ]
  },
  {
   "cell_type": "code",
   "execution_count": 28,
   "metadata": {},
   "outputs": [
    {
     "name": "stdout",
     "output_type": "stream",
     "text": [
      "The r-value is: 0.00040486958340821353\n"
     ]
    },
    {
     "data": {
      "image/png": "[encoded data removed]",
      "text/plain": [
       "<Figure size 432x288 with 1 Axes>"
      ]
     },
     "metadata": {
      "needs_background": "light"
     },
     "output_type": "display_data"
    }
   ],
   "source": [
    "x_values=NorthHemisphere['Lat']\n",
    "y_values=NorthHemisphere['Cloudiness']\n",
    "(slope, intercept, rvalue, pvalue, stderr) = linregress(x_values,y_values)\n",
    "#print(slope, intercept, rvalue, pvalue, stderr)\n",
    "regressvalues=x_values*slope+intercept\n",
    "line_eq=f\"y = {str(round(slope,2))}x +  {str(round(intercept,2))}\"\n",
    "#print(line_eq)\n",
    "\n",
    "plt.scatter(x_values,y_values)\n",
    "plt.xlabel('Latitude')\n",
    "plt.ylabel('Cloudiness')\n",
    "plt.plot(x_values,regressvalues,'red')\n",
    "plt.annotate(line_eq,(40,44),fontsize=15,color='red')\n",
    "print(f\"The r-value is: {rvalue**2}\")\n",
    "plt.savefig('NH_LatVsCloudiness.png')\n",
    "plt.show()\n",
    "# Looks like there is no corelation between latitude and Cloudiness\n",
    "#Almost 0.00 R shows no linear relationship"
   ]
  },
  {
   "cell_type": "markdown",
   "metadata": {},
   "source": [
    "####  Southern Hemisphere - Cloudiness (%) vs. Latitude Linear Regression"
   ]
  },
  {
   "cell_type": "code",
   "execution_count": 26,
   "metadata": {},
   "outputs": [
    {
     "name": "stdout",
     "output_type": "stream",
     "text": [
      "The r-value is: 0.11737224876123263\n"
     ]
    },
    {
     "data": {
      "image/png": "[encoded data removed]",
      "text/plain": [
       "<Figure size 432x288 with 1 Axes>"
      ]
     },
     "metadata": {
      "needs_background": "light"
     },
     "output_type": "display_data"
    }
   ],
   "source": [
    "x_values=SouthHemisphere['Lat']\n",
    "y_values=SouthHemisphere['Cloudiness']\n",
    "(slope, intercept, rvalue, pvalue, stderr) = linregress(x_values,y_values)\n",
    "#print(slope, intercept, rvalue, pvalue, stderr)\n",
    "regressvalues=x_values*slope+intercept\n",
    "line_eq=f\"y = {str(round(slope,2))}x +  {str(round(intercept,2))}\"\n",
    "#print(line_eq)\n",
    "\n",
    "plt.scatter(x_values,y_values)\n",
    "plt.xlabel('Latitude')\n",
    "plt.ylabel('Cloudiness')\n",
    "plt.plot(x_values,regressvalues,'red')\n",
    "plt.annotate(line_eq,(-50,55),fontsize=15,color='red')\n",
    "print(f\"The r-value is: {rvalue**2}\")\n",
    "plt.savefig('SH_LatVsCloudiness.png')\n",
    "plt.show()\n",
    "# Looks like there is no corelation between latitude and Cloudiness\n",
    "#Almost 0.12 R shows no linear relationship\n",
    "#Southern Hemishpere is less cloudy than northern hemisphere"
   ]
  },
  {
   "cell_type": "markdown",
   "metadata": {},
   "source": [
    "####  Northern Hemisphere - Wind Speed (mph) vs. Latitude Linear Regression"
   ]
  },
  {
   "cell_type": "code",
   "execution_count": 31,
   "metadata": {},
   "outputs": [
    {
     "name": "stdout",
     "output_type": "stream",
     "text": [
      "The r-value is: 0.0543036871768514\n"
     ]
    },
    {
     "data": {
      "image/png": "[encoded data removed]",
      "text/plain": [
       "<Figure size 432x288 with 1 Axes>"
      ]
     },
     "metadata": {
      "needs_background": "light"
     },
     "output_type": "display_data"
    }
   ],
   "source": [
    "x_values=NorthHemisphere['Lat']\n",
    "y_values=NorthHemisphere['Wind Speed']\n",
    "(slope, intercept, rvalue, pvalue, stderr) = linregress(x_values,y_values)\n",
    "#print(slope, intercept, rvalue, pvalue, stderr)\n",
    "regressvalues=x_values*slope+intercept\n",
    "line_eq=f\"y = {str(round(slope,2))}x +  {str(round(intercept,2))}\"\n",
    "#print(line_eq)\n",
    "\n",
    "plt.scatter(x_values,y_values)\n",
    "plt.xlabel('Latitude')\n",
    "plt.ylabel('Wind Speed')\n",
    "plt.plot(x_values,regressvalues,'red')\n",
    "plt.annotate(line_eq,(10,20),fontsize=15,color='red')\n",
    "print(f\"The r-value is: {rvalue**2}\")\n",
    "plt.savefig('NH_LatVsWindspeed.png')\n",
    "plt.show()\n",
    "#Almost 0 R(Approx 0.05) shows no linear relationship"
   ]
  },
  {
   "cell_type": "markdown",
   "metadata": {},
   "source": [
    "####  Southern Hemisphere - Wind Speed (mph) vs. Latitude Linear Regression"
   ]
  },
  {
   "cell_type": "code",
   "execution_count": 32,
   "metadata": {},
   "outputs": [
    {
     "name": "stdout",
     "output_type": "stream",
     "text": [
      "The r-value is: 0.03841709281247313\n"
     ]
    },
    {
     "data": {
      "image/png": "[encoded data removed]",
      "text/plain": [
       "<Figure size 432x288 with 1 Axes>"
      ]
     },
     "metadata": {
      "needs_background": "light"
     },
     "output_type": "display_data"
    }
   ],
   "source": [
    "x_values=SouthHemisphere['Lat']\n",
    "y_values=SouthHemisphere['Wind Speed']\n",
    "(slope, intercept, rvalue, pvalue, stderr) = linregress(x_values,y_values)\n",
    "#print(slope, intercept, rvalue, pvalue, stderr)\n",
    "regressvalues=x_values*slope+intercept\n",
    "line_eq=f\"y = {str(round(slope,2))}x +  {str(round(intercept,2))}\"\n",
    "#print(line_eq)\n",
    "\n",
    "plt.scatter(x_values,y_values)\n",
    "plt.xlabel('Latitude')\n",
    "plt.ylabel('Wind Speed')\n",
    "plt.plot(x_values,regressvalues,'red')\n",
    "plt.annotate(line_eq,(-50,25),fontsize=15,color='red')\n",
    "print(f\"The r-value is: {rvalue**2}\")\n",
    "plt.savefig('SH_LatVsWindspeed.png')\n",
    "plt.show()\n",
    "#Almost 0 R(Approx 0.03) shows no linear relationship\n",
    "# If we do not consider outlier wind speeds,Looks like both hemispheres have similar wind speeds."
   ]
  },
  {
   "cell_type": "markdown",
   "metadata": {},
   "source": [
    "# Observations"
   ]
  },
  {
   "cell_type": "raw",
   "metadata": {},
   "source": [
    "1) Looks like locations with high humidity have high cloudiness. \n",
    "2) Norther Hemisphere has warmer teperatures than Souther hemisphere. \n",
    "3) Southern Hemishpere is in general lesser humid than northern hemisphere. \n",
    "4) Southern Hemishpere is less cloudy than northern hemisphere. \n",
    "5) If we do not consider outlier wind speeds,Looks like both hemispheres have similar wind speeds."
   ]
  },
  {
   "cell_type": "code",
   "execution_count": null,
   "metadata": {},
   "outputs": [],
   "source": []
  }
 ],
 "metadata": {
  "anaconda-cloud": {},
  "kernel_info": {
   "name": "python3"
  },
  "kernelspec": {
   "display_name": "Python 3",
   "language": "python",
   "name": "python3"
  },
  "language_info": {
   "codemirror_mode": {
    "name": "ipython",
    "version": 3
   },
   "file_extension": ".py",
   "mimetype": "text/x-python",
   "name": "python",
   "nbconvert_exporter": "python",
   "pygments_lexer": "ipython3",
   "version": "3.8.2"
  },
  "latex_envs": {
   "LaTeX_envs_menu_present": true,
   "autoclose": false,
   "autocomplete": true,
   "bibliofile": "biblio.bib",
   "cite_by": "apalike",
   "current_citInitial": 1,
   "eqLabelWithNumbers": true,
   "eqNumInitial": 1,
   "hotkeys": {
    "equation": "Ctrl-E",
    "itemize": "Ctrl-I"
   },
   "labels_anchors": false,
   "latex_user_defs": false,
   "report_style_numbering": false,
   "user_envs_cfg": false
  },
  "nteract": {
   "version": "0.12.3"
  }
 },
 "nbformat": 4,
 "nbformat_minor": 2
}
